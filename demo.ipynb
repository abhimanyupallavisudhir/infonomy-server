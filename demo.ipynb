{
 "cells": [
  {
   "cell_type": "code",
   "execution_count": null,
   "id": "0f779d3d",
   "metadata": {},
   "outputs": [],
   "source": [
    "import requests\n",
    "from sqlmodel import Session, select\n",
    "from models import User, Question, Answer\n",
    "\n",
    "user0 = {\"username\": \"user0\", \"email\": \"user0@gmail.com\", \"password\": \"blingblong\"}\n",
    "user1 = {\"username\": \"user1\", \"email\": \"user1@gmail.com\", \"password\": \"blingblong\"}\n",
    "user2 = {\"username\": \"user2\", \"email\": \"user2@gmail.com\", \"password\": \"blingblong\"}\n",
    "user3 = {\"username\": \"user3\", \"email\": \"user3@gmail.com\", \"password\": \"blingblong\"}\n",
    "user4 = {\"username\": \"user4\", \"email\": \"user4@gmail.com\", \"password\": \"blingblong\"}\n",
    "user5 = {\"username\": \"user5\", \"email\": \"user5@gmail.com\", \"password\": \"blingblong\"}\n",
    "user6 = {\"username\": \"user6\", \"email\": \"user6@gmail.com\", \"password\": \"blingblong\"}\n",
    "\n",
    "users = [user0, user1, user2, user3, user4, user5, user6]"
   ]
  },
  {
   "cell_type": "code",
   "execution_count": null,
   "id": "736f1360",
   "metadata": {},
   "outputs": [],
   "source": [
    "# Registration\n",
    "class BearerAuth(requests.auth.AuthBase):\n",
    "    def __init__(self, token: str):\n",
    "        self.token = token\n",
    "    def __call__(self, r):\n",
    "        r.headers[\"Authorization\"] = f\"Bearer {self.token}\"\n",
    "        return r\n",
    "\n",
    "# # register a new user\n",
    "for user in users:\n",
    "    response = requests.post(\"http://localhost:8000/auth/register\", json=user)\n",
    "    print(response.status_code)\n",
    "    print(response.json())"
   ]
  },
  {
   "cell_type": "code",
   "execution_count": null,
   "id": "13e3ffe7",
   "metadata": {},
   "outputs": [],
   "source": [
    "# Login\n",
    "responses = []\n",
    "for user in users:\n",
    "    response = requests.post(\"http://localhost:8000/auth/jwt/login\", data={\"username\": user[\"email\"], \"password\": user[\"password\"]})\n",
    "    responses.append(response)\n",
    "\n",
    "print([r.status_code for r in responses])\n",
    "\n",
    "## include tokens\n",
    "tokens = [r.json()[\"access_token\"] for r in responses]\n",
    "sessions = [requests.Session() for _ in tokens]\n",
    "for session, token in zip(sessions, tokens):\n",
    "    session.auth = BearerAuth(token)"
   ]
  }
 ],
 "metadata": {
  "kernelspec": {
   "display_name": "qa-platform",
   "language": "python",
   "name": "python3"
  },
  "language_info": {
   "name": "python",
   "version": "3.10.16"
  }
 },
 "nbformat": 4,
 "nbformat_minor": 5
}
